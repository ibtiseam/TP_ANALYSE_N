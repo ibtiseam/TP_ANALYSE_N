{
 "cells": [
  {
   "cell_type": "markdown",
   "metadata": {},
   "source": [
    "<img src=\"tpan1.png\">\n",
    "\n",
    "###### Réaliser par : \n",
    "#### ibtissem BOUZIDI 2 DNI 1\n",
    "\n"
   ]
  },
  {
   "cell_type": "markdown",
   "metadata": {},
   "source": [
    "<span style=\"color:orange\"><strong>Interpolation: </strong></span><i> Méthode qui qui consiste à déterminer une fonction (dans un ensemble donné), passant par un certain nombre\n",
    "de points imposés.</i>\n",
    "<br><p><span style=\"color:orange\"><strong>Interpolation polynomiale: </strong></span>\n",
    " <i>Interpolation où la fonction est recherchée dans l’ensemble des polynômes.</i>\n",
    " <br><p><span style=\"color:orange\"><strong>Approximation : </strong></span>\n",
    " <i>Méthode qui consiste à déterminer une fonction passant \"au mieux\" à proximité des points donnés.\n",
    "    </i></p>"
   ]
  },
  {
   "cell_type": "markdown",
   "metadata": {},
   "source": [
    "<h2 style=\"color:black\" >  Exercice:</h2>\n",
    "\n",
    ">On va changer le code matlab de fonction PR en code python : "
   ]
  },
  {
   "cell_type": "code",
   "execution_count": 25,
   "metadata": {},
   "outputs": [],
   "source": [
    "from numpy import prod  \n",
    "def PR(x,y,c) :\n",
    "    s=[]\n",
    "    L=[]\n",
    "    n=len(x)\n",
    "    for i in range(n):\n",
    "        L =[c-k for k in x] \n",
    "        for j in range(n):  \n",
    "            if (j==i): \n",
    "                L[j] = 1\n",
    "            else :\n",
    "                L[j] = L[j]/(x[i] - x[j])\n",
    "        s.append(y[i]*prod(L))\n",
    "    u=sum(s)\n",
    "    return u"
   ]
  },
  {
   "cell_type": "code",
   "execution_count": 27,
   "metadata": {},
   "outputs": [
    {
     "name": "stdout",
     "output_type": "stream",
     "text": [
      "-5.0\n",
      "1000.0\n",
      "10.0\n",
      "20.0\n"
     ]
    }
   ],
   "source": [
    "x=[1,2,3,4]\n",
    "y=[-5, 1000 ,10, 20]\n",
    "for k in x : \n",
    "    print(PR(x,y,k))"
   ]
  },
  {
   "cell_type": "markdown",
   "metadata": {},
   "source": [
    "* **<span style=\"color:red\">Intérpretation : </span>**\n",
    "<p>d'apres une execution cette algorithme a la main on a :</p>\n",
    "            \n",
    " "
   ]
  },
  {
   "cell_type": "markdown",
   "metadata": {},
   "source": [
    "$$s=[y_{0}.L_{0}(c), ... y_{3}.L_{3}(c)]$$\n",
    "<br><center>avec $L_{0}(c) = [\\frac{c-x_{0}}{x_{0}-x_{0}}, ... ,\\frac{c-x_{3}}{x_{0}-x_{3}}]$</center>\n",
    "<center><b>...</b></center>\n",
    "<br><center>avec $L_{3}(c) = [\\frac{c-x_{0}}{x_{3}-x_{0}}, ... ,\\frac{c-x_{3}}{x_{3}-x_{3}}]$</center>\n",
    "$$u=\\sum s \\to u=\\sum_{i=1}^{n=3} y_i . L_i \\to u =P_n(c)$$\n"
   ]
  },
  {
   "cell_type": "markdown",
   "metadata": {},
   "source": [
    "> <strong><p>1) Que renvoie la fonction PR lorsqu'on lui déclare  $x=(x_1,x2_,...,x_n)$ et $y=(y_1,y_2,...,y_n)$ deux vecteurs de même longueur n et c un nombre réel.</p><strong>"
   ]
  },
  {
   "cell_type": "markdown",
   "metadata": {},
   "source": [
    " <div class=\"alert alert-block alert-warning\">** <span style=\"color:#800000\">→On déclare deux liste x,y de même longueur qui correspond aux abscisses et ordonnées respectifs au points de support. La fonction PR calcule Lagrange de la valeur du polynôme au point d'abscisse c donné suivant x,y.</span>** </div>\n"
   ]
  },
  {
   "cell_type": "markdown",
   "metadata": {},
   "source": [
    "<span style=\"color:orange\"><strong>La base polynomiale de Lagrange: </strong></span><i>est plus pratique pour l’expression directe du polynôme interpolant à partir des points, mais s’avère plus lourde à évaluer pour l’ordinateur. Le polynôme interpolant n points, s’écrit directement dans la base de\n",
    "Lagrange sous la forme : </i>"
   ]
  },
  {
   "cell_type": "markdown",
   "metadata": {},
   "source": [
    "$$P(x) = \\sum_{i=0}^{n}\\prod_{j=1,j\\neq{i}}^{n}y_i.\\frac{x-x_{j}}{x_{i}-x_{j}}$$"
   ]
  },
  {
   "cell_type": "markdown",
   "metadata": {},
   "source": [
    "> <strong><p>2) Que contient le vecteur L après la fin de la boucle  k ..</p><strong>"
   ]
  },
  {
   "cell_type": "code",
   "execution_count": null,
   "metadata": {},
   "outputs": [],
   "source": []
  }
 ],
 "metadata": {
  "kernelspec": {
   "display_name": "Python 3",
   "language": "python",
   "name": "python3"
  },
  "language_info": {
   "codemirror_mode": {
    "name": "ipython",
    "version": 3
   },
   "file_extension": ".py",
   "mimetype": "text/x-python",
   "name": "python",
   "nbconvert_exporter": "python",
   "pygments_lexer": "ipython3",
   "version": "3.7.1"
  }
 },
 "nbformat": 4,
 "nbformat_minor": 2
}
