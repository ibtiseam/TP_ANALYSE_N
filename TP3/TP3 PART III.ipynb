{
 "cells": [
  {
   "cell_type": "markdown",
   "metadata": {},
   "source": [
    "<img src=\"tpan1.png\">\n",
    "\n",
    "###### Réaliser par : \n",
    "#### *** ibtissem BOUZIDI 2 DNI 1 ***"
   ]
  },
  {
   "cell_type": "code",
   "execution_count": 101,
   "metadata": {},
   "outputs": [
    {
     "name": "stdout",
     "output_type": "stream",
     "text": [
      "The watermark extension is already loaded. To reload it, use:\n",
      "  %reload_ext watermark\n",
      "ipywidgets 7.5.0\n",
      "numpy      1.17.4\n",
      "ipympl     0.5.8\n",
      "scipy      1.1.0\n",
      "\n"
     ]
    }
   ],
   "source": [
    "\"\"\"\"matplotlib interactifs\"\"\"\n",
    "%matplotlib widget \n",
    "%load_ext watermark\n",
    "%watermark --iversions\n",
    "import ipympl \n",
    "import scipy.integrate as integrate\n",
    "import ipywidgets as widgets\n",
    "import matplotlib.pyplot as plt\n",
    "import numpy as np\n",
    "from numpy import *"
   ]
  },
  {
   "cell_type": "code",
   "execution_count": 26,
   "metadata": {},
   "outputs": [],
   "source": [
    "\"\"\"import_ipynb permet d'importer d'autres fichiers ipynb dans notre fichier ipynb actuel\"\"\"\n",
    "import import_ipynb\n",
    "#importer les different classe à utiliser\n",
    "from milieu import Milieu\n",
    "from rectangleG import RectangleG\n",
    "from simpson import Simpson\n",
    "from trapezoidal import Trapezoidal"
   ]
  },
  {
   "cell_type": "code",
   "execution_count": 96,
   "metadata": {},
   "outputs": [],
   "source": [
    "\n",
    "text_func = widgets.Text(value='1/(1+x**2)', description='Fonction', continuous_update=False)\n",
    "############## text################\n",
    "text_a = widgets.Text(value='-1', description='a', continuous_update=False)\n",
    "text_b = widgets.Text(value='1' , description='b', continuous_update=False)\n",
    "text_n = widgets.Text(value='' , description='n', continuous_update=False)\n",
    "\n",
    "text_R=widgets.Text(value='' , description='IR_n', continuous_update=True)\n",
    "text_T=widgets.Text(value='' , description='IT_n', continuous_update=False)\n",
    "text_M=widgets.Text(value='' , description='IM_n', continuous_update=False)\n",
    "text_S=widgets.Text(value='' , description='IS_n', continuous_update=False)\n",
    "\n",
    "\n",
    "\n",
    "text_erreurM = widgets.Text(value='' , description='MilieuError', continuous_update=False)\n",
    "text_erreurS = widgets.Text(value='' , description='SimpsonError', continuous_update=False)\n",
    "text_erreurR = widgets.Text(value='' , description='RectabgleError', continuous_update=False)\n",
    "text_erreurT= widgets.Text(value='' , description='TrapezeError', continuous_update=False)\n",
    "\n",
    "#text_best=widgets.Text(value='' , description='Best method', continuous_update=False)\n",
    "\n",
    "button1=widgets.Button(description=\"caluler\")\n",
    "\n",
    "def sim2(b):\n",
    "    func=lambda x:eval(text_func.value)\n",
    "    plt.clf()\n",
    "    R=RectangleG(float(text_a.value),float(text_b.value),int(text_n.value),func)\n",
    "    T=Trapezoidal(float(text_a.value),float(text_b.value),int(text_n.value),func)\n",
    "    M=Milieu(float(text_a.value),float(text_b.value),int(text_n.value),func)\n",
    "    S=Simpson(float(text_a.value),float(text_b.value),int(text_n.value),func)\n",
    "    r,e = integrate.quad(func, float(text_a.value), float(text_b.value))\n",
    "    \n",
    "    fig.add_subplot(221)\n",
    "    T.Graph(func)\n",
    "    \n",
    "    fig.add_subplot(222)    \n",
    "    R.Graph(func)  \n",
    "    \n",
    "    fig.add_subplot(223)\n",
    "    M.Graph(func)\n",
    "    \n",
    "    fig.add_subplot(224)\n",
    "    S.Graph(func)\n",
    "    plt.tight_layout(pad=0.4, w_pad=0.5, h_pad=1.0)\n",
    "    plt.show()\n",
    "    \n",
    "    text_R.value=str(R.integrate(func))\n",
    "    text_R.description=\"IR_\"+text_n.value\n",
    "    \n",
    "    text_T.value=str(T.integrate(func))\n",
    "    text_T.description=\"IT_\"+text_n.value\n",
    "    \n",
    "    text_S.value=str(S.integrate(func))\n",
    "    text_S.description=\"IS_\"+text_n.value\n",
    "    \n",
    "    text_M.value=str(M.integrate(func))\n",
    "    text_M.description=\"IM_\"+text_n.value\n",
    "    \n",
    "\n",
    "    \n",
    "    text_erreurR.value=str(r-R.integrate(func))\n",
    "    text_erreurT.value=str(r-T.integrate(func))\n",
    "    text_erreurS.value=str(r-S.integrate(func))\n",
    "    text_erreurM.value=str(r-M.integrate(func))\n",
    "    \n",
    "   # arr=np.array([text_erreurR.value,text_erreurT.value,text_erreurS.value,text_erreurM.value])\n",
    "    #minI = arr.astype(np.float)\n",
    "    #text_best.value=str(np.amin(minI))\n",
    "    \n",
    "def update_a(change):\n",
    "    change.new\n",
    "def update_b(change):\n",
    "    change.new\n",
    "def update_n(change):\n",
    "    change.new\n",
    "def update_f(change):\n",
    "    change.new\n",
    "#button.on_click(sim)\n",
    "button1.on_click(sim2)\n",
    "#text_func.observe(update_f,'value')\n",
    "text_a.observe(update_a,'value')\n",
    "text_b.observe(update_b,'value')"
   ]
  },
  {
   "cell_type": "code",
   "execution_count": 97,
   "metadata": {},
   "outputs": [],
   "source": [
    "output = widgets.Output()\n",
    "with output:\n",
    "    fig, ax = plt.subplots(constrained_layout=True, figsize=(6, 4))\n",
    "     \n",
    "\n",
    "fig.canvas.toolbar_position = 'bottom'"
   ]
  },
  {
   "cell_type": "code",
   "execution_count": 98,
   "metadata": {},
   "outputs": [
    {
     "data": {
      "application/vnd.jupyter.widget-view+json": {
       "model_id": "feea83daa7a24cebb3322e99370fa608",
       "version_major": 2,
       "version_minor": 0
      },
      "text/plain": [
       "HBox(children=(VBox(children=(Text(value='1/(1+x**2)', continuous_update=False, description='Fonction'), Text(…"
      ]
     },
     "metadata": {},
     "output_type": "display_data"
    },
    {
     "name": "stderr",
     "output_type": "stream",
     "text": [
      "C:\\Users\\ASUS\\Anaconda3\\lib\\site-packages\\ipykernel_launcher.py:44: UserWarning: This figure was using constrained_layout==True, but that is incompatible with subplots_adjust and or tight_layout: setting constrained_layout==False. \n"
     ]
    }
   ],
   "source": [
    "def make_box():\n",
    "    box1=widgets.VBox([text_func,text_a,text_b,text_n,button1,text_R,text_M,text_S,text_T,text_erreurM,text_erreurR,text_erreurS,text_erreurT])\n",
    "    box2=widgets.VBox([output])\n",
    "    return box1\n",
    "layout=widgets.Layout(\n",
    "    border='solid 2px gray',\n",
    "    margin='0px 5px 5px 0px'\n",
    ")\n",
    "box1=make_box()\n",
    "box1.layout=layout\n",
    "widgets.HBox([box1,output])\n"
   ]
  },
  {
   "cell_type": "code",
   "execution_count": 84,
   "metadata": {},
   "outputs": [
    {
     "name": "stdout",
     "output_type": "stream",
     "text": [
      "['0.037462993461563565' '0.037462993461563565' '0.45968521568378584'\n",
      " '-0.018947262948692645']\n"
     ]
    }
   ],
   "source": [
    "arr=np.array([text_erreurR.value,text_erreurT.value,text_erreurS.value,text_erreurM.value])\n",
    "print(arr)"
   ]
  },
  {
   "cell_type": "code",
   "execution_count": 88,
   "metadata": {},
   "outputs": [],
   "source": [
    "y = arr.astype(np.float)\n",
    "a=np.amin(y)"
   ]
  },
  {
   "cell_type": "code",
   "execution_count": 89,
   "metadata": {},
   "outputs": [
    {
     "name": "stdout",
     "output_type": "stream",
     "text": [
      "-0.018947262948692645\n"
     ]
    }
   ],
   "source": [
    "print(a)"
   ]
  },
  {
   "cell_type": "code",
   "execution_count": null,
   "metadata": {},
   "outputs": [],
   "source": []
  }
 ],
 "metadata": {
  "kernelspec": {
   "display_name": "Python 3",
   "language": "python",
   "name": "python3"
  },
  "language_info": {
   "codemirror_mode": {
    "name": "ipython",
    "version": 3
   },
   "file_extension": ".py",
   "mimetype": "text/x-python",
   "name": "python",
   "nbconvert_exporter": "python",
   "pygments_lexer": "ipython3",
   "version": "3.7.1"
  }
 },
 "nbformat": 4,
 "nbformat_minor": 2
}
