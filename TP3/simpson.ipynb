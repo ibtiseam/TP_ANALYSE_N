{
 "cells": [
  {
   "cell_type": "code",
   "execution_count": 3,
   "metadata": {},
   "outputs": [],
   "source": [
    "import ipywidgets as widgets\n",
    "import matplotlib.pyplot as plt\n",
    "import numpy as np\n",
    "from numpy import *\n"
   ]
  },
  {
   "cell_type": "code",
   "execution_count": 2,
   "metadata": {},
   "outputs": [],
   "source": [
    "class Simpson(object):\n",
    "    def __init__(self, a, b, n, f): #initialiser les paramètres du classe\n",
    "        self.a = a\n",
    "        self.b = b\n",
    "        self.x = np.linspace(a,b,n+1)#les pts supports\n",
    "        self.f = f\n",
    "        self.n = n #nombre de subdivision\n",
    "\n",
    "    def integrate(self,f):#calculer la somme ((b-a)/6*n)*[f(a)+2*sum(xi)+4*sum(mi)+f(b)]\n",
    "        x=self.x #les points supports xi #x(0)=a-->x(n)=b\n",
    "        y=f(x) #yi variable local y(o)=f(xo)-->y(n)\n",
    "        h = float(x[1] - x[0])#pas h=(b-a)/2*n\n",
    "        n = len(x) - 1#nombre subdivision\n",
    "        if n % 2 == 1:#si le reste de la division =1 impaire\n",
    "            n -= 1#☺nombre de sub ywali paire\n",
    "        s = y[0] + y[n] + 4.0 * sum(y[1:-1:2]) + 2.0 * sum(y[2:-2:2])\n",
    "        #y[1:-1:2] min impaire loulla m0 lil 9bal likhrania 5ater 3anna deja y(n) par pas de 2== mi\n",
    "        #calculer la somme\n",
    "        #T(-1] dernier valeur dans le tableau)\n",
    "        return h * s / 3.0\n",
    "    def Graph(self,f,resolution=1001):#1000 points 1001 résolution juste pour dessiner f\n",
    "        xl = self.x #pt support\n",
    "        yl = f(xl) #yi\n",
    "        xlist_fine=np.linspace(self.a, self.b, resolution)\n",
    "        # pour le graph de la fonction f #intervalle ab subdiviser en 1000 poitns\n",
    "        for i in range(self.n):#range intervalle 0 à n\n",
    "            xx=np.linspace(xl[i], xl[i+1], resolution)\n",
    "            #pour chaque subdivisuion  on doit dessiner polynome dnc on doit aussi le subdiviser\n",
    "            m=(xl[i]+xl[i+1])/2#pt milieu\n",
    "            a=xl[i]#borne gauche\n",
    "            b=xl[i+1]#borne droite\n",
    "            l0 = (xx-m)/(a-m)*(xx-b)/(a-b)\n",
    "            l1 = (xx-a)/(m-a)*(xx-b)/(m-b)\n",
    "            l2 = (xx-a)/(b-a)*(xx-m)/(b-m)\n",
    "            P = f(a)*l0 + f(m)*l1 + f(b)*l2#fonction dde polynome\n",
    "            plt.plot(xx,P,'m')#dessiner polynome d'interpolation\n",
    "        yflist_fine = f(xlist_fine)#fontion f\n",
    "        plt.plot(xlist_fine, yflist_fine,'g')\n",
    "        plt.plot(xl, yl,'wp')#point support en bleu rond\n",
    "        \n",
    "        plt.ylabel('f(x)')\n",
    "        plt.title('Simpson')"
   ]
  },
  {
   "cell_type": "code",
   "execution_count": null,
   "metadata": {},
   "outputs": [],
   "source": []
  }
 ],
 "metadata": {
  "kernelspec": {
   "display_name": "Python 3",
   "language": "python",
   "name": "python3"
  },
  "language_info": {
   "codemirror_mode": {
    "name": "ipython",
    "version": 3
   },
   "file_extension": ".py",
   "mimetype": "text/x-python",
   "name": "python",
   "nbconvert_exporter": "python",
   "pygments_lexer": "ipython3",
   "version": "3.7.1"
  }
 },
 "nbformat": 4,
 "nbformat_minor": 2
}
