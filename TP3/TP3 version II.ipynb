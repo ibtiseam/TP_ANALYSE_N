{
 "cells": [
  {
   "cell_type": "markdown",
   "metadata": {},
   "source": [
    "<img src=\"tpan1.png\">\n",
    "\n",
    "###### Réaliser par : \n",
    "#### *** ibtissem BOUZIDI 2 DNI 1 ***"
   ]
  },
  {
   "cell_type": "code",
   "execution_count": 3,
   "metadata": {},
   "outputs": [
    {
     "name": "stdout",
     "output_type": "stream",
     "text": [
      "The watermark extension is already loaded. To reload it, use:\n",
      "  %reload_ext watermark\n"
     ]
    }
   ],
   "source": [
    "%load_ext watermark"
   ]
  },
  {
   "cell_type": "code",
   "execution_count": 5,
   "metadata": {},
   "outputs": [
    {
     "name": "stdout",
     "output_type": "stream",
     "text": [
      "numpy      1.17.4\n",
      "ipywidgets 7.5.0\n",
      "\n"
     ]
    }
   ],
   "source": [
    "#matplotlib interactifs\n",
    "%matplotlib widget \n",
    "import ipywidgets as widgets\n",
    "import matplotlib.pyplot as plt\n",
    "import numpy as np\n",
    "from numpy import *\n",
    "%watermark --iversions"
   ]
  },
  {
   "cell_type": "code",
   "execution_count": 10,
   "metadata": {},
   "outputs": [],
   "source": [
    "# import_ipynb permet d'importer d'autres fichiers ipynb dans notre fichier ipynb actuel\n",
    "import import_ipynb\n",
    "#importer les different classe à utiliser\n",
    "from milieu import Milieu\n",
    "from rectangleG import RectangleG\n",
    "from simpson import Simpson\n",
    "from trapezoidal import Trapezoidal"
   ]
  },
  {
   "cell_type": "code",
   "execution_count": 19,
   "metadata": {},
   "outputs": [],
   "source": [
    "methode=widgets.Dropdown(\n",
    "                        options=[('Méthode des réctangles gauches', 1), \n",
    "                                 ('Méthode des Trapèze', 2),('Méthodes des Points Milieux', 3) ,('Méthodes de Simpson', 4)],\n",
    "                        value=2,\n",
    "                        description='Méthode:',\n",
    "                        )\n",
    "text_func = widgets.Text(value='cos(x)', description='Fonction', continuous_update=False)\n",
    "text_a = widgets.Text(value='-1', description='a', continuous_update=False)\n",
    "text_b = widgets.Text(value='1', description='b', continuous_update=False)\n",
    "text_n = widgets.Text(value='3', description='n', continuous_update=False)\n",
    "text_int = widgets.Text(value='', description='I_n', continuous_update=True)\n",
    "button = widgets.Button(description=\"Calculer\")\n",
    "####################################\n",
    "def sim(b):\n",
    "    dic={1:RectangleG,2:Trapezoidal,3:Milieu,4:Simpson}\n",
    "    m=methode.value\n",
    "    plt.cla()\n",
    "    func=lambda x:eval(text_func.value)\n",
    "    R=dic[m](float(text_a.value), float(text_b.value),int(text_n.value),func)\n",
    "    R.Graph(func)\n",
    "    text_int.value=str(R.integrate(func))\n",
    "    text_int.description='I_'+text_n.value\n",
    "def update_a(change):\n",
    "    change.new    \n",
    "def update_b(change):\n",
    "    change.new\n",
    "def update_n(change):\n",
    "    change.new\n",
    "def update_f(change):\n",
    "    change.new\n",
    "###################################\n",
    "button.on_click(sim)\n",
    "##########################\n",
    "text_func.observe(update_f, 'value')\n",
    "text_a.observe(update_a, 'value')\n",
    "text_b.observe(update_b, 'value')"
   ]
  },
  {
   "cell_type": "code",
   "execution_count": 20,
   "metadata": {},
   "outputs": [],
   "source": [
    "output = widgets.Output()\n",
    "if plt.gcf().number>=2:\n",
    "        for i in range(2,plt.gcf().number):\n",
    "            plt.close(i)\n",
    "with output:\n",
    "    fig, ax = plt.subplots(constrained_layout=True, figsize=(6, 4))     \n",
    "fig.canvas.toolbar_position = 'bottom'"
   ]
  },
  {
   "cell_type": "code",
   "execution_count": 21,
   "metadata": {},
   "outputs": [
    {
     "data": {
      "application/vnd.jupyter.widget-view+json": {
       "model_id": "6103ff19d93948d2827e08f10db0b6e2",
       "version_major": 2,
       "version_minor": 0
      },
      "text/plain": [
       "HBox(children=(VBox(children=(Dropdown(description='Méthode:', index=1, options=(('Méthode des réctangles gauc…"
      ]
     },
     "metadata": {},
     "output_type": "display_data"
    }
   ],
   "source": [
    "def make_boxes():\n",
    "    vbox1 = widgets.VBox([methode, text_func,text_a,text_b,text_n,button,text_int])\n",
    "    vbox2 = widgets.VBox([ fig.canvas])\n",
    "    return vbox1, vbox2\n",
    "box_layout = widgets.Layout(\n",
    "        border='solid 2px gray',\n",
    "        margin='0px 10px 10px 0px',\n",
    "        padding='5px 5px 5px 5px')\n",
    " \n",
    "vbox1, vbox2 = make_boxes()\n",
    " \n",
    "vbox1.layout = box_layout\n",
    "vbox2.layout = box_layout\n",
    "\n",
    "widgets.HBox([vbox1, vbox2])"
   ]
  },
  {
   "cell_type": "code",
   "execution_count": null,
   "metadata": {},
   "outputs": [],
   "source": []
  },
  {
   "cell_type": "code",
   "execution_count": null,
   "metadata": {},
   "outputs": [],
   "source": []
  }
 ],
 "metadata": {
  "kernelspec": {
   "display_name": "Python 3",
   "language": "python",
   "name": "python3"
  }
 },
 "nbformat": 4,
 "nbformat_minor": 4
}
