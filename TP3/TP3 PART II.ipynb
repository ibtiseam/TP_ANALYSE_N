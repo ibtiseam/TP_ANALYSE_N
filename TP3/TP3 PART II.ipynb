{
 "cells": [
  {
   "cell_type": "markdown",
   "metadata": {},
   "source": [
    "<img src=\"tpan1.png\">\n",
    "\n",
    "###### Réaliser par : \n",
    "#### *** ibtissem BOUZIDI 2 DNI 1 ***"
   ]
  },
  {
   "cell_type": "code",
   "execution_count": 1,
   "metadata": {},
   "outputs": [],
   "source": [
    "#!pip install import-ipynb"
   ]
  },
  {
   "cell_type": "code",
   "execution_count": 2,
   "metadata": {},
   "outputs": [],
   "source": [
    "#!pip install ipympl     "
   ]
  },
  {
   "cell_type": "code",
   "execution_count": 3,
   "metadata": {},
   "outputs": [],
   "source": [
    "#%load_ext watermark"
   ]
  },
  {
   "cell_type": "code",
   "execution_count": 10,
   "metadata": {},
   "outputs": [],
   "source": [
    "\"\"\"\"matplotlib interactifs\"\"\"\n",
    "%matplotlib widget \n",
    "import ipympl \n",
    "import ipywidgets as widgets\n",
    "import matplotlib.pyplot as plt\n",
    "import numpy as np\n",
    "from numpy import *\n",
    "#%watermark --iversions\n",
    "import scipy.integrate as integrate"
   ]
  },
  {
   "cell_type": "code",
   "execution_count": 3,
   "metadata": {},
   "outputs": [
    {
     "name": "stdout",
     "output_type": "stream",
     "text": [
      "importing Jupyter notebook from milieu.ipynb\n",
      "importing Jupyter notebook from rectangleG.ipynb\n",
      "importing Jupyter notebook from simpson.ipynb\n",
      "importing Jupyter notebook from trapezoidal.ipynb\n"
     ]
    }
   ],
   "source": [
    "\"\"\"import_ipynb permet d'importer d'autres fichiers ipynb dans notre fichier ipynb actuel\"\"\"\n",
    "import import_ipynb\n",
    "#importer les different classe à utiliser\n",
    "from milieu import Milieu\n",
    "from rectangleG import RectangleG\n",
    "from simpson import Simpson\n",
    "from trapezoidal import Trapezoidal"
   ]
  },
  {
   "cell_type": "code",
   "execution_count": 30,
   "metadata": {},
   "outputs": [],
   "source": [
    "methode=widgets.Dropdown(\n",
    "                        options=[('Méthode des réctangles gauches', 1), \n",
    "                                 ('Méthode des Trapèze', 2),('Méthodes des Points Milieux', 3) ,('Méthodes de Simpson', 4)],\n",
    "                        value=2,\n",
    "                        description='Méthode:',\n",
    "                        )\n",
    "\n",
    "text_func = widgets.Text(value='1/(1+x**2)', description='Fonction', continuous_update=False)\n",
    "text_a = widgets.Text(value='-1', description='a', continuous_update=False)\n",
    "text_b = widgets.Text(value='1', description='b', continuous_update=False)\n",
    "text_n = widgets.Text(value='3', description='n', continuous_update=False)\n",
    "text_int = widgets.Text(value='', description='I_n', continuous_update=True)\n",
    "\n",
    "\n",
    "erreur = widgets.Text(value='' , description='erreur', continuous_update=False)\n",
    "button = widgets.Button(description=\"Calculer\")\n",
    "####################################\n",
    "def sim(b):\n",
    "    dic={1:RectangleG,2:Trapezoidal,3:Milieu,4:Simpson}\n",
    "    m=methode.value\n",
    "    plt.cla()\n",
    "    func=lambda x:eval(text_func.value)\n",
    "    R=dic[m](float(text_a.value), float(text_b.value),int(text_n.value),func)\n",
    "    r,e = integrate.quad(func, float(text_a.value), float(text_b.value))\n",
    "    R.Graph(func)\n",
    "    text_int.value=str(R.integrate(func))\n",
    "    text_int.description='I_'+text_n.value\n",
    "    erreur.value=str(r-R.integrate(func))\n",
    "def update_a(change):\n",
    "    change.new    \n",
    "def update_b(change):\n",
    "    change.new\n",
    "def update_n(change):\n",
    "    change.new\n",
    "def update_f(change):\n",
    "    change.new\n",
    "###################################\n",
    "button.on_click(sim)\n",
    "##########################\n",
    "text_func.observe(update_f, 'value')\n",
    "text_a.observe(update_a, 'value')\n",
    "text_b.observe(update_b, 'value')"
   ]
  },
  {
   "cell_type": "code",
   "execution_count": 31,
   "metadata": {},
   "outputs": [],
   "source": [
    "output = widgets.Output()\n",
    "if plt.gcf().number>=2:\n",
    "        for i in range(2,plt.gcf().number):\n",
    "            plt.close(i)\n",
    "with output:\n",
    "    fig, ax = plt.subplots(constrained_layout=True, figsize=(6, 4))     \n",
    "fig.canvas.toolbar_position = 'bottom'"
   ]
  },
  {
   "cell_type": "code",
   "execution_count": 32,
   "metadata": {
    "scrolled": true
   },
   "outputs": [
    {
     "data": {
      "application/vnd.jupyter.widget-view+json": {
       "model_id": "40fcd656cdb84c53b3e07998019772e0",
       "version_major": 2,
       "version_minor": 0
      },
      "text/plain": [
       "HBox(children=(VBox(children=(Dropdown(description='Méthode:', index=1, options=(('Méthode des réctangles gauc…"
      ]
     },
     "metadata": {},
     "output_type": "display_data"
    }
   ],
   "source": [
    "def make_boxes():\n",
    "    vbox1 = widgets.VBox([methode, text_func,text_a,text_b,text_n,button,text_int, erreur])\n",
    "    vbox2 = widgets.VBox([ fig.canvas])\n",
    "    return vbox1, vbox2\n",
    "box_layout = widgets.Layout(\n",
    "        border='solid 2px gray',\n",
    "        margin='0px 10px 10px 0px',\n",
    "        padding='5px 5px 5px 5px')\n",
    " \n",
    "vbox1, vbox2 = make_boxes()\n",
    " \n",
    "vbox1.layout = box_layout\n",
    "vbox2.layout = box_layout\n",
    "\n",
    "widgets.HBox([vbox1, vbox2])"
   ]
  },
  {
   "cell_type": "code",
   "execution_count": null,
   "metadata": {},
   "outputs": [],
   "source": []
  }
 ],
 "metadata": {
  "kernelspec": {
   "display_name": "Python 3",
   "language": "python",
   "name": "python3"
  },
  "language_info": {
   "codemirror_mode": {
    "name": "ipython",
    "version": 3
   },
   "file_extension": ".py",
   "mimetype": "text/x-python",
   "name": "python",
   "nbconvert_exporter": "python",
   "pygments_lexer": "ipython3",
   "version": "3.7.1"
  }
 },
 "nbformat": 4,
 "nbformat_minor": 4
}
