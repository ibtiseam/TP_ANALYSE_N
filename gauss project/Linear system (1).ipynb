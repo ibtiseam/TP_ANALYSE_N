{
 "cells": [
  {
   "cell_type": "markdown",
   "metadata": {
    "slideshow": {
     "slide_type": "slide"
    }
   },
   "source": [
    "# Système linéaire"
   ]
  },
  {
   "cell_type": "markdown",
   "metadata": {
    "slideshow": {
     "slide_type": "slide"
    }
   },
   "source": [
    "On considère : \n",
    "$$\n",
    "(S):\\quad   \\left\\{\n",
    "\\begin{array}{ccc ccc c @{\\extracolsep{2.5pt}}c@{\\extracolsep{2.5pt}}c}\n",
    "a_{1,1}x_{1} & + & a_{1,2}x_{2} & + & \\cdots & + & a_{1,n}x_{n} & = & b_{1} \\\\\n",
    "a_{2,1}x_{1} & + & a_{2,2}x_{2} & + & \\cdots & + & a_{2,n}x_{n} & = & b_{2} \\\\\n",
    "\\vdots & & \\vdots & & \\ddots & &  \\vdots & &  \\vdots \\\\\n",
    "a_{m,1}x_{1} & + & a_{m,2}x_{2} & + & \\cdots & + & a_{m,n}x_{n} & = & b_{m} \\\\\n",
    "\\end{array}\n",
    "\\right.\n",
    "$$\n",
    "\n",
    "Avec $a_{i,j} \\in \\mathbb{R}, \\quad 1\\leq i,j \\leq n$ et $x_i \\in \\mathbb{R}$. \n"
   ]
  },
  {
   "cell_type": "markdown",
   "metadata": {
    "slideshow": {
     "slide_type": "subslide"
    }
   },
   "source": [
    "### Exemple :\n",
    "$$\n",
    " \\left\\{\n",
    " \\begin{matrix}\n",
    " 2x_1 & + & 3x_2 & + & 5x_3 & = & 2 \\\\\n",
    " x_1 & + & -x_2 & + & -2x_3 & = & -2 \\\\\n",
    " 2x_1 &  &  & + & 5x_3 & = & 2 \n",
    " \\end{matrix}\n",
    " \\right.\n",
    " $$"
   ]
  },
  {
   "cell_type": "markdown",
   "metadata": {
    "slideshow": {
     "slide_type": "slide"
    }
   },
   "source": [
    "## Ecriture Matricielle\n",
    "\n",
    "$\n",
    "(S):\\quad   \\left\\{\n",
    "\\begin{array}{ccc ccc c @{\\extracolsep{2.5pt}}c@{\\extracolsep{2.5pt}}c}\n",
    "a_{1,1}x_{1} & + & a_{1,2}x_{2} & + & \\cdots & + & a_{1,n}x_{n} & = & b_{1} \\\\\n",
    "a_{2,1}x_{1} & + & a_{2,2}x_{2} & + & \\cdots & + & a_{2,n}x_{n} & = & b_{2} \\\\\n",
    "\\vdots & & \\vdots & & \\ddots & &  \\vdots & &  \\vdots \\\\\n",
    "a_{m,1}x_{1} & + & a_{m,2}x_{2} & + & \\cdots & + & a_{m,n}x_{n} & = & b_{m} \\\\\n",
    "\\end{array}\n",
    "\\right.\n",
    "$\n",
    "\n",
    "Notation matricielle\n",
    "\n",
    "$$  \\left(\\begin{array}{cc c c @{\\extracolsep{2.5pt}}}\n",
    "a_{1,1}  & a_{1,2} &  \\cdots   & a_{1,n}   \\\\\n",
    "a_{2,1}  & a_{2,2} &  \\cdots   & a_{2,n}   \\\\\n",
    "\\vdots   & \\vdots  &  \\ddots   &  \\vdots   \\\\\n",
    "a_{m,1}  & a_{m,2} &  \\cdots   & a_{m,n}   \\\\\n",
    "\\end{array}\n",
    "\\right)\\left(\\begin{array}{c}\n",
    " x_{1}   \\\\\n",
    " x_{2}   \\\\\n",
    "  \\vdots   \\\\\n",
    " x_{m}   \\\\\n",
    "\\end{array}\\right) =\n",
    "\\left(\\begin{array}{c}\n",
    " b_{1}   \\\\\n",
    " b_{2}   \\\\\n",
    "  \\vdots   \\\\\n",
    " b_{m}   \\\\\n",
    "\\end{array}\\right)$$\n"
   ]
  },
  {
   "cell_type": "markdown",
   "metadata": {
    "slideshow": {
     "slide_type": "subslide"
    }
   },
   "source": [
    "### Exemple :\n",
    "$$\n",
    " \\left\\{\n",
    " \\begin{matrix}\n",
    " 2x_1 & + & 3x_2 & + & 5x_3 & = & 2 \\\\\n",
    " x_1 & + & -x_2 & + & -2x_3 & = & -2 \\\\\n",
    " 2x_1 &  &  & + & 5x_3 & = & 2 \n",
    " \\end{matrix}\n",
    " \\right.\n",
    " $$\n",
    " \n",
    " Notation matricielle\n",
    " \n",
    " $$ \\left(\n",
    " \\begin{array}{ccccc}\n",
    " 2&  & 3 &  & 5  \\\\\n",
    " 1 &  & -1&  & -2  \\\\\n",
    " 2 &  & 0 &  & 5 \n",
    " \\end{array}\n",
    " \\right) \\left(\n",
    " \\begin{array}{c}\n",
    " x_1 \\\\\n",
    "x_2\\\\\n",
    "x_3 \n",
    " \\end{array}\n",
    " \\right)= \\left(\n",
    " \\begin{array}{c}\n",
    " 2  \\\\\n",
    " -2  \\\\\n",
    " 2 \n",
    " \\end{array}\n",
    " \\right)\n",
    " $$\n",
    " \n",
    " "
   ]
  },
  {
   "cell_type": "markdown",
   "metadata": {
    "slideshow": {
     "slide_type": "slide"
    }
   },
   "source": [
    "# Algorithme de Gauss\n",
    "\n",
    "```\n",
    "Do k = 1 to n-1\n",
    "\tDo i = k+1 to n\n",
    "\t\tfactor = ai,k / ak,k\n",
    "\t\tDo j = k+1 to n\n",
    "\t\t\tai,j = ai,j – factor * ak,j\n",
    "\t\tEnd Do\n",
    "\t\tbi = bi – factor * bk\n",
    "\tEnd Do\n",
    "End Do\n",
    "```"
   ]
  },
  {
   "cell_type": "code",
   "execution_count": 1,
   "metadata": {
    "slideshow": {
     "slide_type": "skip"
    }
   },
   "outputs": [],
   "source": [
    "from __future__ import division\n",
    "from sympy import *\n",
    "x, y, z, t = symbols('x y z t')\n",
    "k, m, n = symbols('k m n', integer=True)\n",
    "f, g, h = symbols('f g h', cls=Function)\n",
    "init_printing() # doctest: +SKIP\n"
   ]
  },
  {
   "cell_type": "markdown",
   "metadata": {
    "slideshow": {
     "slide_type": "slide"
    }
   },
   "source": [
    "# Implementation de l'algorithmede Gauss"
   ]
  },
  {
   "cell_type": "code",
   "execution_count": 2,
   "metadata": {
    "slideshow": {
     "slide_type": "skip"
    }
   },
   "outputs": [],
   "source": [
    "# -*- coding: utf-8 -*-\n",
    "\n",
    "\n",
    "def gauss(A):\n",
    "    n = len(A)\n",
    "    for i in range(0, n):\n",
    "        # Search for maximum in this column\n",
    "        maxEl = abs(A[i][i])\n",
    "        maxRow = i\n",
    "        \"\"\"\n",
    "        #Avec stratégie\n",
    "        for k in range(i+1, n):\n",
    "            if abs(A[k][i]) > maxEl:\n",
    "                maxEl = abs(A[k][i])\n",
    "                maxRow = k\n",
    "\n",
    "        # Swap maximum row with current row (column by column)\n",
    "        for k in range(i, n+1):\n",
    "            tmp = A[maxRow][k]\n",
    "            A[maxRow][k] = A[i][k]\n",
    "            A[i][k] = tmp\n",
    "        \"\"\"\n",
    "    # Make all rows below this one 0 in current column\n",
    "    \n",
    "        for k in range(i+1, n):\n",
    "            c = -A[k][i]/A[i][i]\n",
    "            for j in range(i, n+1):\n",
    "                if i == j:\n",
    "                    A[k][j] = 0\n",
    "                else:\n",
    "                    A[k][j] += c * A[i][j]\n",
    "        \n",
    "\n",
    "    # Solve equation Ax=b for an upper triangular matrix A\n",
    "    x = [0 for i in range(n)]\n",
    "    for i in range(n-1, -1, -1):\n",
    "        x[i] = A[i][n]/A[i][i]\n",
    "        for k in range(i-1, -1, -1):\n",
    "            A[k][n] -= A[k][i] * x[i]\n",
    "    # Print result\n",
    "    line = \"Résultat:\\t\"\n",
    "    for i in range(0, n):\n",
    "        line += \"x{} =\".format(i+1)+str(x[i])+ \"\\t\"\n",
    "    print(line)\n",
    "    return x    "
   ]
  },
  {
   "cell_type": "code",
   "execution_count": 6,
   "metadata": {},
   "outputs": [
    {
     "name": "stdout",
     "output_type": "stream",
     "text": [
      "Saisir la ligne 2 : 2 3 3 4 5\n"
     ]
    },
    {
     "data": {
      "text/plain": [
       "['2', '3', '3', '4', '5']"
      ]
     },
     "execution_count": 6,
     "metadata": {},
     "output_type": "execute_result"
    }
   ],
   "source": [
    "input(\"Saisir la ligne {} : \".format(2)).split(\" \")"
   ]
  },
  {
   "cell_type": "code",
   "execution_count": 8,
   "metadata": {
    "slideshow": {
     "slide_type": "slide"
    }
   },
   "outputs": [
    {
     "name": "stdout",
     "output_type": "stream",
     "text": [
      "L2<--L2 +1*L1\n",
      "L3<--L3 +-1*L1\n",
      "1\t2\t3\t| 4\t\n",
      "0\t4\t7\t| 7\t\n",
      "0\t3\t-1\t| -1\t\n",
      "\n",
      "--------------------------------------------------\n",
      "L3<--L3 +-3/4*L2\n",
      "1\t2\t3\t| 4\t\n",
      "0\t4\t7\t| 7\t\n",
      "0\t0\t-25/4\t| -25/4\t\n",
      "\n",
      "--------------------------------------------------\n",
      "1\t2\t3\t| 4\t\n",
      "0\t4\t7\t| 7\t\n",
      "0\t0\t-25/4\t| -25/4\t\n",
      "\n",
      "--------------------------------------------------\n",
      "Résultat:\tx1 =1\tx2 =0\tx3 =1\t\n"
     ]
    }
   ],
   "source": [
    "# La solution\n",
    "x = gauss(A)"
   ]
  },
  {
   "cell_type": "code",
   "execution_count": null,
   "metadata": {},
   "outputs": [],
   "source": []
  }
 ],
 "metadata": {
  "celltoolbar": "Slideshow",
  "kernelspec": {
   "display_name": "Python 3",
   "language": "python",
   "name": "python3"
  },
  "language_info": {
   "codemirror_mode": {
    "name": "ipython",
    "version": 3
   },
   "file_extension": ".py",
   "mimetype": "text/x-python",
   "name": "python",
   "nbconvert_exporter": "python",
   "pygments_lexer": "ipython3",
   "version": "3.7.1"
  }
 },
 "nbformat": 4,
 "nbformat_minor": 2
}
