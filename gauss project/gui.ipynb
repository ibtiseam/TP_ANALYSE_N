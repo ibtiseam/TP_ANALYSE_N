{
 "cells": [
  {
   "cell_type": "code",
   "execution_count": 7,
   "metadata": {},
   "outputs": [
    {
     "name": "stdout",
     "output_type": "stream",
     "text": [
      "The watermark extension is already loaded. To reload it, use:\n",
      "  %reload_ext watermark\n",
      "automodinit 0.16\n"
     ]
    }
   ],
   "source": [
    "import import_ipynb\n",
    "#importer les different classe à utiliser\n",
    "from las import *\n",
    "###################\n",
    "import sys\n",
    "import numpy as np\n",
    "from io import StringIO\n",
    "from sympy import *\n",
    "from PyQt5 import uic\n",
    "from PyQt5.QtWidgets import (QApplication, QWidget, qApp, QDesktopWidget, \n",
    "    QMessageBox, QPushButton, QToolTip, QMainWindow)\n",
    "from PyQt5.QtGui import QIcon, QFont\n",
    "from PyQt5.QtCore import QCoreApplication\n",
    "%load_ext watermark\n",
    "%watermark -p automodinit"
   ]
  },
  {
   "cell_type": "code",
   "execution_count": null,
   "metadata": {},
   "outputs": [],
   "source": [
    "\n",
    "\n",
    "qtCreatorFile = \"testUI.ui\" # Enter file here.\n",
    " \n",
    "Ui_MainWindow, QtBaseClass = uic.loadUiType(qtCreatorFile)\n",
    "\n",
    "class MyApp(QMainWindow, Ui_MainWindow):\n",
    "    def __init__(self):\n",
    "        QMainWindow.__init__(self)\n",
    "        Ui_MainWindow.__init__(self)\n",
    "        self.setupUi(self)\n",
    "        self.btnCalcLAS.clicked.connect(self.calcLASMenu)\n",
    "        \n",
    "    def calcLASMenu(self):\n",
    "        try:\n",
    "            if self.inpGE.isChecked() == true:\n",
    "                self.calcLASGEP()\n",
    "            if self.inpGJ.isChecked() == true:\n",
    "                self.calcLASGJ()\n",
    "            if self.btnGrpLAS.checkedId() == -1:\n",
    "                QMessageBox.warning(self, \"Avertissement utilisateur \",\" Choisissez une méthode.\")\n",
    "        except Exception as e:\n",
    "            raise\n",
    "        else:\n",
    "            pass\n",
    "        finally:\n",
    "            pass\n",
    "            \n",
    "\n",
    "    def calcLASGEP(self):\n",
    "        A = np.matrix(np.loadtxt(StringIO(self.inpTextLA.toPlainText())))\n",
    "        b = np.fromstring(self.inpVecB.text(),sep=' ')\n",
    "        classAns = gaussElim(A,b)\n",
    "        self.outTextLA.append(\"<b> Méthode d'élimination de Gauss</b><br>\")\n",
    "        self.outTextLA.append(\"La matrice A est\\n\" + str(A))\n",
    "        self.outTextLA.append(\"\\nLe vecteur b est \\n\" + str(b.reshape((-1, 1))))\n",
    "        self.outTextLA.append(\"\\nLe vecteur X est\\n\" + str(classAns.x.reshape((-1,1))))\n",
    "\n",
    "    def calcLASGJ(self):\n",
    "        A = np.matrix(np.loadtxt(StringIO(self.inpTextLA.toPlainText())))\n",
    "        b = np.fromstring(self.inpVecB.text(),sep=' ')\n",
    "        classAns =gaussJordan(A,b)\n",
    "        self.outTextLA.append(\"<b>Méthode Gauss Jordan </b><br>\")\n",
    "        self.outTextLA.append(\"La matrice A est\\n\" + str(A))\n",
    "        self.outTextLA.append(\"\\nLe vecteur b est \\n\" + str(b.reshape((-1, 1))))\n",
    "        self.outTextLA.append(\"\\nLe vecteur X est\\n\" + str(classAns.x.reshape((-1,1))))\n",
    "\n",
    "if __name__ == \"__main__\":\n",
    "    app = QApplication(sys.argv)\n",
    "    window = MyApp()\n",
    "    window.show()\n",
    "    sys.exit(app.exec_())"
   ]
  },
  {
   "cell_type": "code",
   "execution_count": null,
   "metadata": {},
   "outputs": [],
   "source": []
  }
 ],
 "metadata": {
  "kernelspec": {
   "display_name": "Python 3",
   "language": "python",
   "name": "python3"
  },
  "language_info": {
   "codemirror_mode": {
    "name": "ipython",
    "version": 3
   },
   "file_extension": ".py",
   "mimetype": "text/x-python",
   "name": "python",
   "nbconvert_exporter": "python",
   "pygments_lexer": "ipython3",
   "version": "3.7.1"
  }
 },
 "nbformat": 4,
 "nbformat_minor": 2
}
