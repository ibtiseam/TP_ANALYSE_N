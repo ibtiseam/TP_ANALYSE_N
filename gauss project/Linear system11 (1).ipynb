{
 "cells": [
  {
   "cell_type": "markdown",
   "metadata": {
    "slideshow": {
     "slide_type": "slide"
    }
   },
   "source": [
    "# Système linéaire"
   ]
  },
  {
   "cell_type": "markdown",
   "metadata": {
    "slideshow": {
     "slide_type": "slide"
    }
   },
   "source": [
    "On considère : \n",
    "$$\n",
    "(S):\\quad   \\left\\{\n",
    "\\begin{array}{ccc ccc c @{\\extracolsep{2.5pt}}c@{\\extracolsep{2.5pt}}c}\n",
    "a_{1,1}x_{1} & + & a_{1,2}x_{2} & + & \\cdots & + & a_{1,n}x_{n} & = & b_{1} \\\\\n",
    "a_{2,1}x_{1} & + & a_{2,2}x_{2} & + & \\cdots & + & a_{2,n}x_{n} & = & b_{2} \\\\\n",
    "\\vdots & & \\vdots & & \\ddots & &  \\vdots & &  \\vdots \\\\\n",
    "a_{m,1}x_{1} & + & a_{m,2}x_{2} & + & \\cdots & + & a_{m,n}x_{n} & = & b_{m} \\\\\n",
    "\\end{array}\n",
    "\\right.\n",
    "$$\n",
    "\n",
    "Avec $a_{i,j} \\in \\mathbb{R}, \\quad 1\\leq i,j \\leq n$ et $x_i \\in \\mathbb{R}$. \n"
   ]
  },
  {
   "cell_type": "markdown",
   "metadata": {
    "slideshow": {
     "slide_type": "subslide"
    }
   },
   "source": [
    "### Exemple :\n",
    "$$\n",
    " \\left\\{\n",
    " \\begin{matrix}\n",
    " 2x_1 & + & 3x_2 & + & 5x_3 & = & 2 \\\\\n",
    " x_1 & + & -x_2 & + & -2x_3 & = & -2 \\\\\n",
    " 2x_1 &  &  & + & 5x_3 & = & 2 \n",
    " \\end{matrix}\n",
    " \\right.\n",
    " $$"
   ]
  },
  {
   "cell_type": "markdown",
   "metadata": {
    "slideshow": {
     "slide_type": "slide"
    }
   },
   "source": [
    "## Ecriture Matricielle\n",
    "\n",
    "$\n",
    "(S):\\quad   \\left\\{\n",
    "\\begin{array}{ccc ccc c @{\\extracolsep{2.5pt}}c@{\\extracolsep{2.5pt}}c}\n",
    "a_{1,1}x_{1} & + & a_{1,2}x_{2} & + & \\cdots & + & a_{1,n}x_{n} & = & b_{1} \\\\\n",
    "a_{2,1}x_{1} & + & a_{2,2}x_{2} & + & \\cdots & + & a_{2,n}x_{n} & = & b_{2} \\\\\n",
    "\\vdots & & \\vdots & & \\ddots & &  \\vdots & &  \\vdots \\\\\n",
    "a_{m,1}x_{1} & + & a_{m,2}x_{2} & + & \\cdots & + & a_{m,n}x_{n} & = & b_{m} \\\\\n",
    "\\end{array}\n",
    "\\right.\n",
    "$\n",
    "\n",
    "Notation matricielle\n",
    "\n",
    "$$  \\left(\\begin{array}{cc c c @{\\extracolsep{2.5pt}}}\n",
    "a_{1,1}  & a_{1,2} &  \\cdots   & a_{1,n}   \\\\\n",
    "a_{2,1}  & a_{2,2} &  \\cdots   & a_{2,n}   \\\\\n",
    "\\vdots   & \\vdots  &  \\ddots   &  \\vdots   \\\\\n",
    "a_{m,1}  & a_{m,2} &  \\cdots   & a_{m,n}   \\\\\n",
    "\\end{array}\n",
    "\\right)\\left(\\begin{array}{c}\n",
    " x_{1}   \\\\\n",
    " x_{2}   \\\\\n",
    "  \\vdots   \\\\\n",
    " x_{m}   \\\\\n",
    "\\end{array}\\right) =\n",
    "\\left(\\begin{array}{c}\n",
    " b_{1}   \\\\\n",
    " b_{2}   \\\\\n",
    "  \\vdots   \\\\\n",
    " b_{m}   \\\\\n",
    "\\end{array}\\right)$$\n"
   ]
  },
  {
   "cell_type": "markdown",
   "metadata": {
    "slideshow": {
     "slide_type": "subslide"
    }
   },
   "source": [
    "### Exemple :\n",
    "$$\n",
    " \\left\\{\n",
    " \\begin{matrix}\n",
    " 2x_1 & + & 3x_2 & + & 5x_3 & = & 2 \\\\\n",
    " x_1 & + & -x_2 & + & -2x_3 & = & -2 \\\\\n",
    " 2x_1 &  &  & + & 5x_3 & = & 2 \n",
    " \\end{matrix}\n",
    " \\right.\n",
    " $$\n",
    " \n",
    " Notation matricielle\n",
    " \n",
    " $$ \\left(\n",
    " \\begin{array}{ccccc}\n",
    " 2&  & 3 &  & 5  \\\\\n",
    " 1 &  & -1&  & -2  \\\\\n",
    " 2 &  & 0 &  & 5 \n",
    " \\end{array}\n",
    " \\right) \\left(\n",
    " \\begin{array}{c}\n",
    " x_1 \\\\\n",
    "x_2\\\\\n",
    "x_3 \n",
    " \\end{array}\n",
    " \\right)= \\left(\n",
    " \\begin{array}{c}\n",
    " 2  \\\\\n",
    " -2  \\\\\n",
    " 2 \n",
    " \\end{array}\n",
    " \\right)\n",
    " $$\n",
    " \n",
    " "
   ]
  },
  {
   "cell_type": "markdown",
   "metadata": {
    "slideshow": {
     "slide_type": "slide"
    }
   },
   "source": [
    "# Algorithme de Gauss\n",
    "\n",
    "```\n",
    "Do k = 1 to n-1\n",
    "\tDo i = k+1 to n\n",
    "\t\tfactor = ai,k / ak,k\n",
    "\t\tDo j = k+1 to n\n",
    "\t\t\tai,j = ai,j – factor * ak,j\n",
    "\t\tEnd Do\n",
    "\t\tbi = bi – factor * bk\n",
    "\tEnd Do\n",
    "End Do\n",
    "```"
   ]
  },
  {
   "cell_type": "code",
   "execution_count": 2,
   "metadata": {
    "slideshow": {
     "slide_type": "skip"
    }
   },
   "outputs": [],
   "source": [
    "from __future__ import division\n",
    "from sympy import *\n",
    "x, y, z, t = symbols('x y z t')\n",
    "k, m, n = symbols('k m n', integer=True)\n",
    "f, g, h = symbols('f g h', cls=Function)\n",
    "init_printing() # doctest: +SKIP\n"
   ]
  },
  {
   "cell_type": "markdown",
   "metadata": {
    "slideshow": {
     "slide_type": "slide"
    }
   },
   "source": [
    "# Implementation de l'algorithmede Gauss"
   ]
  },
  {
   "cell_type": "code",
   "execution_count": 17,
   "metadata": {
    "slideshow": {
     "slide_type": "skip"
    }
   },
   "outputs": [],
   "source": [
    "# -*- coding: utf-8 -*-\n",
    "from sympy import *\n",
    "def pprint(A):\n",
    "    n = len(A)\n",
    "    for i in range(0, n):\n",
    "        line = \"\"\n",
    "        for j in range(0, n+1):\n",
    "            line += str(A[i][j]) + \"\\t\"\n",
    "            if j == n-1:\n",
    "                line += \"| \"\n",
    "        print(line)\n",
    "    print(\"\")\n",
    "\n",
    "\n",
    "def gauss(A):\n",
    "    n = len(A)\n",
    "    pprint(A)\n",
    "\n",
    "    for i in range(0, n):\n",
    "        # Search for maximum in this column\n",
    "        maxEl = abs(A[i][i])\n",
    "        maxRow = i\n",
    "        \"\"\"\n",
    "        #Avec stratégie\n",
    "        for k in range(i+1, n):\n",
    "            if abs(A[k][i]) > maxEl:\n",
    "                maxEl = abs(A[k][i])\n",
    "                maxRow = k\n",
    "\n",
    "        # Swap maximum row with current row (column by column)\n",
    "        for k in range(i, n+1):\n",
    "            tmp = A[maxRow][k]\n",
    "            A[maxRow][k] = A[i][k]\n",
    "            A[i][k] = tmp\n",
    "        \"\"\"\n",
    "    # Make all rows below this one 0 in current column\n",
    "    \n",
    "        for k in range(i+1, n):\n",
    "            c = -A[k][i]/A[i][i]\n",
    "            for j in range(i, n+1):\n",
    "                if i == j:\n",
    "                    A[k][j] = 0\n",
    "                else:\n",
    "                    A[k][j] += c * A[i][j]\n",
    "            print(\"L{}<--L{} +{}*L{}\".format(k+1,k+1,c,i+1))\n",
    "        pprint(A)\n",
    "        print(\"--------------------------------------------------\")\n",
    "    # determinant\n",
    "    det=1\n",
    "    for i in range(n):\n",
    "        det=det*A[i][i]\n",
    "       \n",
    "    if det ==0:\n",
    "        print(\" le système admet un determinant nul\")\n",
    "    else: \n",
    "        # Solve equation Ax=b for an upper triangular matrix A\n",
    "        x = [0 for i in range(n)]\n",
    "        for i in range(n-1, -1, -1):\n",
    "            x[i] = A[i][n]/A[i][i]\n",
    "            for k in range(i-1, -1, -1):\n",
    "                A[k][n] -= A[k][i] * x[i]\n",
    "        # Print result\n",
    "        line = \"Résultat:\\t\"\n",
    "        for i in range(0, n):\n",
    "            line += \"x{} =\".format(i+1)+str(x[i])+ \"\\t\"\n",
    "        print(line)\n",
    "        return x \n",
    "\n",
    "    "
   ]
  },
  {
   "cell_type": "code",
   "execution_count": 18,
   "metadata": {
    "slideshow": {
     "slide_type": "skip"
    }
   },
   "outputs": [],
   "source": [
    "from fractions import Fraction\n",
    "def enonce():\n",
    "    n = int(input((\"Enter la dimension n : \")))\n",
    "    A = [[0 for j in range(n+1)] for i in range(n)]\n",
    "    # Read input data    \n",
    "    for i in range(0, n):        \n",
    "        line = map(Fraction, input(\"Saisir la ligne {} : \".format(i)).split(\" \"))\n",
    "        for j, el in enumerate(line):\n",
    "            A[i][j] = el   \n",
    "    #lastLine = map(Fraction, input(\"Donner le vecteur b (transposé) : \").split(\" \"))\n",
    "    #for j, el in enumerate(lastLine):\n",
    "    #   A[j][n]=el\n",
    "    #Print input\n",
    "    pprint(A)\n",
    "        \n",
    "    return A\n",
    "#exemple 1\n",
    "#Enter la dimension n : 3\n",
    "#Saisir la ligne 0 : 2 3 5\n",
    "#Saisir la ligne 1 : 1 -1 -2\n",
    "#Saisir la ligne 2 : 2 0 5\n",
    "#Donner le vecteur b (transposé) : 2 -2 2\n",
    "#2\t3\t5\t| 2\n",
    "#1\t-1\t-2\t| -2\n",
    "#2\t0\t5\t| 2  \n",
    "\n",
    "#exemple 2\n",
    "#Enter la dimension n : 3\n",
    "#Saisir la ligne 0 : 1 2 3\n",
    "#Saisir la ligne 1 : -1 -2 3\n",
    "#Saisir la ligne 2 : 2 4 -1\n",
    "#Donner le vecteur b (transposé) : 1 2 0\n",
    "#1\t2\t3\t| 1\t\n",
    "#-1\t-2\t3\t| 2\t\n",
    "#2\t4\t-1\t| 0\t\n",
    "#EXEMPLE4\n",
    "#1\t-1\t1\t1\t| 1\t\n",
    "#2\t1\t-2\t-3\t| -3\t\n",
    "#-1\t2\t1\t-3\t| -7\t\n",
    "#3\t2\t-1\t1\t| 11\t "
   ]
  },
  {
   "cell_type": "code",
   "execution_count": 23,
   "metadata": {
    "slideshow": {
     "slide_type": "slide"
    }
   },
   "outputs": [
    {
     "name": "stdout",
     "output_type": "stream",
     "text": [
      "Enter la dimension n : 4\n",
      "Saisir la ligne 0 : 1 -1 1 1 1\n",
      "Saisir la ligne 1 : 2 1 -2 -3 -3\n",
      "Saisir la ligne 2 : -1 2 1 -3 -7\n",
      "Saisir la ligne 3 : 3 2 -1 1 11\n",
      "1\t-1\t1\t1\t| 1\t\n",
      "2\t1\t-2\t-3\t| -3\t\n",
      "-1\t2\t1\t-3\t| -7\t\n",
      "3\t2\t-1\t1\t| 11\t\n",
      "\n"
     ]
    }
   ],
   "source": [
    "A=enonce()"
   ]
  },
  {
   "cell_type": "code",
   "execution_count": 24,
   "metadata": {
    "slideshow": {
     "slide_type": "slide"
    }
   },
   "outputs": [
    {
     "name": "stdout",
     "output_type": "stream",
     "text": [
      "1\t-1\t1\t1\t| 1\t\n",
      "2\t1\t-2\t-3\t| -3\t\n",
      "-1\t2\t1\t-3\t| -7\t\n",
      "3\t2\t-1\t1\t| 11\t\n",
      "\n",
      "L2<--L2 +-2*L1\n",
      "L3<--L3 +1*L1\n",
      "L4<--L4 +-3*L1\n",
      "1\t-1\t1\t1\t| 1\t\n",
      "0\t3\t-4\t-5\t| -5\t\n",
      "0\t1\t2\t-2\t| -6\t\n",
      "0\t5\t-4\t-2\t| 8\t\n",
      "\n",
      "--------------------------------------------------\n",
      "L3<--L3 +-1/3*L2\n",
      "L4<--L4 +-5/3*L2\n",
      "1\t-1\t1\t1\t| 1\t\n",
      "0\t3\t-4\t-5\t| -5\t\n",
      "0\t0\t10/3\t-1/3\t| -13/3\t\n",
      "0\t0\t8/3\t19/3\t| 49/3\t\n",
      "\n",
      "--------------------------------------------------\n",
      "L4<--L4 +-4/5*L3\n",
      "1\t-1\t1\t1\t| 1\t\n",
      "0\t3\t-4\t-5\t| -5\t\n",
      "0\t0\t10/3\t-1/3\t| -13/3\t\n",
      "0\t0\t0\t33/5\t| 99/5\t\n",
      "\n",
      "--------------------------------------------------\n",
      "1\t-1\t1\t1\t| 1\t\n",
      "0\t3\t-4\t-5\t| -5\t\n",
      "0\t0\t10/3\t-1/3\t| -13/3\t\n",
      "0\t0\t0\t33/5\t| 99/5\t\n",
      "\n",
      "--------------------------------------------------\n",
      "Résultat:\tx1 =1\tx2 =2\tx3 =-1\tx4 =3\t\n"
     ]
    }
   ],
   "source": [
    "# La solution\n",
    "x = gauss(A)\n",
    "\n"
   ]
  },
  {
   "cell_type": "code",
   "execution_count": null,
   "metadata": {},
   "outputs": [],
   "source": []
  }
 ],
 "metadata": {
  "celltoolbar": "Slideshow",
  "kernelspec": {
   "display_name": "Python 3",
   "language": "python",
   "name": "python3"
  },
  "language_info": {
   "codemirror_mode": {
    "name": "ipython",
    "version": 3
   },
   "file_extension": ".py",
   "mimetype": "text/x-python",
   "name": "python",
   "nbconvert_exporter": "python",
   "pygments_lexer": "ipython3",
   "version": "3.7.1"
  }
 },
 "nbformat": 4,
 "nbformat_minor": 2
}
