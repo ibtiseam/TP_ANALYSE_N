{
 "cells": [
  {
   "cell_type": "markdown",
   "metadata": {},
   "source": [
    "<img src=\"tpan1.png\">\n",
    "\n",
    "###### Réaliser par : \n",
    "#### ibtissem BOUZIDI 2 DNI 1\n",
    "\n"
   ]
  },
  {
   "cell_type": "markdown",
   "metadata": {},
   "source": [
    "<p><blockquote> Ce TP, explique quelques méthodes permettant de trouver numériquement les zéros de fonctions d'une variable réelle &#x1F600;</blockquote></p>"
   ]
  },
  {
   "cell_type": "markdown",
   "metadata": {},
   "source": [
    "<h2 style=\"color:black\" >  Exercice 1:</h2>\n",
    "\n",
    ">On considère le polynôme $p(x) = (x - 1)^6$. \n",
    ">\n",
    ">En développant on\n",
    ">peut écrire ce même polynôme sous la forme\n",
    ">$f(x) = x^6 - 6x^5 + 15x^4 - 20x^3 + 15x^2 - 6x + 1.$\n",
    ">\n",
    ">1) Avec Matlab évaluer $p(x)$ et $f(x)$ pour $x$ allant de $.998$ à\n",
    ">$1.002$ en choisissant des pas de $.0001$.\n",
    ">\n",
    ">2) Faire un graphique de $f(x)$ et $p(x)$. Commenter.\n",
    "\n"
   ]
  },
  {
   "cell_type": "markdown",
   "metadata": {},
   "source": [
    "* **<span style=\"color:red\">Correction: </span>**\n",
    "\n",
    "#### 1/ <p><blockquote>on déclare avec python deux fonctions p1(x)(forme réduite) et p2(x) (forme développée)</blockquote></p>\n"
   ]
  },
  {
   "cell_type": "code",
   "execution_count": 7,
   "metadata": {},
   "outputs": [
    {
     "name": "stdout",
     "output_type": "stream",
     "text": [
      "Exemple avec la valeur 0.998\n",
      "6.400000000000034e-17\n",
      "1.7763568394002505e-15\n"
     ]
    }
   ],
   "source": [
    "# on déclare avec python deux fonctions p1(x)(forme réduite) et p2(x) (forme développée)\n",
    "def p1(x): \n",
    "    return (x-1)**6 \n",
    "def p2(x):\n",
    "    return x**6 - 6*x**5 + 15*x**4 - 20*x**3 + 15*x**2 - 6*x + 1.\n",
    "\n",
    "print('Exemple avec la valeur 0.998')\n",
    "print(p1(0.998))\n",
    "print(p2(0.998))   \n"
   ]
  },
  {
   "cell_type": "markdown",
   "metadata": {},
   "source": [
    " <div class=\"alert alert-block alert-danger\">** <span style=\"color:#800000\">→ malgré que les deux fonctions sont equivalenetes mathématiquement ,elles ne donnent pas la même valeur  </span>** </div>\n"
   ]
  },
  {
   "cell_type": "markdown",
   "metadata": {},
   "source": [
    "#### <blockquote>code python pour évaluer p(x)  et  f(x)  pour  x  allant de  .998  à  1.002  en choisissant des pas de  .0001 </blockquote>"
   ]
  },
  {
   "cell_type": "code",
   "execution_count": 11,
   "metadata": {},
   "outputs": [
    {
     "name": "stdout",
     "output_type": "stream",
     "text": [
      "Expression réduite\n",
      "            \n",
      "p1(i)=  6.400000000000034e-17\n",
      "p1(i)=  4.70458810000019e-17\n",
      "p1(i)=  3.40122240000027e-17\n",
      "p1(i)=  2.4137569000002966e-17\n",
      "p1(i)=  1.6777216000002883e-17\n",
      "p1(i)=  1.139062500000259e-17\n",
      "p1(i)=  7.52953600000219e-18\n",
      "p1(i)=  4.826809000001757e-18\n",
      "p1(i)=  2.985984000001342e-18\n",
      "p1(i)=  1.771561000000975e-18\n",
      "p1(i)=  1.0000000000006715e-18\n",
      "p1(i)=  5.314410000004355e-19\n",
      "p1(i)=  2.6214400000026335e-19\n",
      "p1(i)=  1.1764900000014617e-19\n",
      "p1(i)=  4.665600000007277e-20\n",
      "p1(i)=  1.562500000003131e-20\n",
      "p1(i)=  4.096000000010936e-21\n",
      "p1(i)=  7.290000000027557e-22\n",
      "p1(i)=  6.400000000038403e-23\n",
      "p1(i)=  1.0000000000126618e-24\n",
      "p1(i)=  1.1985091468012028e-94\n",
      "p1(i)=  9.999999999860165e-25\n",
      "p1(i)=  6.399999999953138e-23\n",
      "p1(i)=  7.289999999962809e-22\n",
      "p1(i)=  4.095999999983651e-21\n",
      "p1(i)=  1.562499999994804e-20\n",
      "p1(i)=  4.6655999999865574e-20\n",
      "p1(i)=  1.1764899999969834e-19\n",
      "p1(i)=  2.6214399999939023e-19\n",
      "p1(i)=  5.314409999988621e-19\n",
      "p1(i)=  9.99999999998007e-19\n",
      "p1(i)=  1.7715609999966836e-18\n",
      "p1(i)=  2.9859839999947116e-18\n",
      "p1(i)=  4.826808999991864e-18\n",
      "p1(i)=  7.52953599998786e-18\n",
      "p1(i)=  1.1390624999982356e-17\n",
      "p1(i)=  1.6777215999974943e-17\n",
      "p1(i)=  2.4137568999965134e-17\n",
      "p1(i)=  3.401222399995235e-17\n",
      "p1(i)=  4.704588099993592e-17\n",
      "p1(i)=  6.399999999991508e-17\n",
      "            \n",
      "*****************************************************\n",
      "            \n",
      "Expression developpée\n",
      "            \n",
      "p2(i)=  1.7763568394002505e-15\n",
      "p2(i)=  1.7763568394002505e-15\n",
      "p2(i)=  0.0\n",
      "p2(i)=  -2.6645352591003757e-15\n",
      "p2(i)=  1.7763568394002505e-15\n",
      "p2(i)=  0.0\n",
      "p2(i)=  -1.7763568394002505e-15\n",
      "p2(i)=  8.881784197001252e-16\n",
      "p2(i)=  1.7763568394002505e-15\n",
      "p2(i)=  -3.552713678800501e-15\n",
      "p2(i)=  0.0\n",
      "p2(i)=  -2.6645352591003757e-15\n",
      "p2(i)=  0.0\n",
      "p2(i)=  0.0\n",
      "p2(i)=  -1.7763568394002505e-15\n",
      "p2(i)=  -8.881784197001252e-16\n",
      "p2(i)=  0.0\n",
      "p2(i)=  1.7763568394002505e-15\n",
      "p2(i)=  -1.7763568394002505e-15\n",
      "p2(i)=  2.6645352591003757e-15\n",
      "p2(i)=  0.0\n",
      "p2(i)=  -1.7763568394002505e-15\n",
      "p2(i)=  -1.7763568394002505e-15\n",
      "p2(i)=  -4.440892098500626e-15\n",
      "p2(i)=  -1.7763568394002505e-15\n",
      "p2(i)=  5.329070518200751e-15\n",
      "p2(i)=  0.0\n",
      "p2(i)=  -2.6645352591003757e-15\n",
      "p2(i)=  1.7763568394002505e-15\n",
      "p2(i)=  -3.552713678800501e-15\n",
      "p2(i)=  -3.552713678800501e-15\n",
      "p2(i)=  8.881784197001252e-16\n",
      "p2(i)=  1.7763568394002505e-15\n",
      "p2(i)=  -1.7763568394002505e-15\n",
      "p2(i)=  0.0\n",
      "p2(i)=  2.6645352591003757e-15\n",
      "p2(i)=  0.0\n",
      "p2(i)=  1.7763568394002505e-15\n",
      "p2(i)=  0.0\n",
      "p2(i)=  2.6645352591003757e-15\n",
      "p2(i)=  1.7763568394002505e-15\n",
      "*****************************************************\n",
      "False\n"
     ]
    }
   ],
   "source": [
    "import numpy\n",
    "print('Expression réduite')\n",
    "print('            ')\n",
    "for i in numpy.arange(0.998, 1.002,0.0001):\n",
    "    print('p1(i)= ' , p1(i))\n",
    "print('            ')\n",
    "print('*****************************************************')\n",
    "print('            ')\n",
    "print('Expression developpée')\n",
    "print('            ')\n",
    "for i in numpy.arange(0.998, 1.002,0.0001):\n",
    "    print('p2(i)= ' , p2(i))\n",
    "print('*****************************************************')\n",
    "\n",
    "print(p1(i)==p2(i))"
   ]
  },
  {
   "cell_type": "markdown",
   "metadata": {},
   "source": [
    "   <p> → on ne trouve pas les mêmes valeurs : l'utilisation des valeurs rééls présentent un problème d'arrondissment d'ou on trouve erreur </p>\n"
   ]
  },
  {
   "cell_type": "markdown",
   "metadata": {},
   "source": [
    "\n",
    "* **<span style=\"color:#0000C0\">Graphique  : </span>**"
   ]
  },
  {
   "cell_type": "code",
   "execution_count": 12,
   "metadata": {},
   "outputs": [
    {
     "data": {
      "image/png": "[encoded data removed]",
      "text/plain": [
       "<Figure size 1080x504 with 1 Axes>"
      ]
     },
     "metadata": {
      "needs_background": "light"
     },
     "output_type": "display_data"
    }
   ],
   "source": [
    "import matplotlib.pyplot as plt\n",
    "import numpy as np\n",
    "\n",
    "x = np.arange(0.998, 1.002, 0.0001)\n",
    "p = lambda x:(x-1)**6 \n",
    "fig = plt.figure(1, figsize=(15, 7))\n",
    "plt.plot(x,p(x))\n",
    "f = lambda x: x**6 - 6*x**5 + 15*x**4 - 20*x**3 + 15*x**2 - 6*x + 1\n",
    "fig=plt.figure(1, figsize=(15 , 10))\n",
    "plt.plot(x,f(x))\n",
    "plt.xlabel('x')\n",
    "plt.ylabel('f(x)')\n",
    "plt.title('fonction dans l intervalle [0.998:0.0001:1.002] ')\n",
    "plt.legend(('p(x)', 'f(x)'), loc='upper center', shadow=True)\n",
    "plt.grid(True)   \n",
    "plt.show()"
   ]
  },
  {
   "cell_type": "markdown",
   "metadata": {},
   "source": [
    "## Matlab "
   ]
  },
  {
   "cell_type": "code",
   "execution_count": 1,
   "metadata": {},
   "outputs": [
    {
     "data": {
      "image/png": "[encoded data removed]",
      "text/plain": [
       "<IPython.core.display.Image object>"
      ]
     },
     "metadata": {},
     "output_type": "display_data"
    }
   ],
   "source": [
    "x=[0.998:0.0001:1.002];\n",
    "p=@(x) (x-1).^6 ;\n",
    "f=@(x) x.^6 - 6*x.^5 + 15*x.^4 - 20*x.^3 + 15*x.^2 - 6*x + 1;\n",
    "plot(x,f(x),'r',x,p(x),'b');\n",
    "title (\"solution f(x) dans [0.998:1.002] \");\n",
    "xlabel (\"x\");\n",
    "ylabel (\"f(x)\");\n",
    "grid on"
   ]
  },
  {
   "cell_type": "markdown",
   "metadata": {},
   "source": [
    "##  <h2 style=\"color:black\" > EXERCICE 2: </h2>\n",
    "\n",
    ">On considère l'équation : $$ f(x)=x^3+x^2-3x-3=0$$\n",
    ">1) Dessiner la courbe de $f$ dans l'intervalle $[-2;2]$, puis trouver des intervalles convenables pour appliquer la méthode de >bisection.\n",
    "\n",
    ">2) Utiliser un programme `dicho.m` qui permettra de trouver les solutions de l'équation $f(x)=0$ avec $eps=0.001$.\n",
    ">\n",
    ">3) Modifier le programme `dicho.m` pour qu'il donne le nombre d'itération nécessaire pour avoir la solution à $eps$ près."
   ]
  },
  {
   "cell_type": "markdown",
   "metadata": {},
   "source": [
    "\n",
    "* **<span style=\"color:red\">Correction: </span>**\n"
   ]
  },
  {
   "cell_type": "markdown",
   "metadata": {},
   "source": [
    "## 1/ \n",
    "* **<span style=\"color:#0000C0\">Utilisation de la méthode `dichotomie` : </span>**\n",
    "<p>Rappeler la méthode de dichotomie qui permet d’approcher ce zéro de f.\n",
    "Faites une illustration graphique.</p>"
   ]
  },
  {
   "cell_type": "markdown",
   "metadata": {},
   "source": [
    "<center>on pose $ a_{n+1}=a_{n},b_{n+1} =x_{n} si f(a_{n})f(x_{n}) < 0 ,$</center>\n",
    "<center>ou  $a_{n+1}=x_{n},b_{n+1} =b_{n} si f(a_{n})f(x_{n}) < 0 ,$</center>\n",
    "<center>et $x_{n+1}=\\left(\\dfrac{a+b}{2}\\right)$</center>"
   ]
  },
  {
   "cell_type": "code",
   "execution_count": 4,
   "metadata": {},
   "outputs": [
    {
     "name": "stdout",
     "output_type": "stream",
     "text": [
      "f =\n",
      "\n",
      "@(x) x .^ 3 + x .^ 2 - 3 * x - 3\n",
      "\n"
     ]
    },
    {
     "data": {
      "image/png": "[encoded data removed]",
      "text/plain": [
       "<IPython.core.display.Image object>"
      ]
     },
     "metadata": {},
     "output_type": "display_data"
    }
   ],
   "source": [
    "T=[-2:0.1:2];\n",
    "TT=linspace(-2,2,41);# subdivision de [-2,2] en 40 subdivision ( 41 ponts)\n",
    "f=@(x) x.^3+x.^2-3*x-3 \n",
    "t=[-2:0.1:2];# (2-(-2))/0.1+1 (b-a)/pas +1\n",
    "plot(t,f(t))\n",
    "title (\"solution dans [-2:2] \");\n",
    "xlabel (\"x\");\n",
    "ylabel (\"f(x)\");\n",
    "grid on"
   ]
  },
  {
   "cell_type": "markdown",
   "metadata": {},
   "source": [
    "### Daprés le graph de $f$ il existe 3 solutions :\n",
    "- $\\alpha_1 \\in ]-2;-1.5[$ \n",
    "- $\\alpha_2 \\in ]-1.5;-0.5[$ \n",
    "- $\\alpha_3 \\in ]1.5;2[$ "
   ]
  },
  {
   "cell_type": "code",
   "execution_count": 2,
   "metadata": {},
   "outputs": [
    {
     "data": {
      "text/plain": [
       "[<matplotlib.lines.Line2D at 0x1ce8cdc2390>]"
      ]
     },
     "execution_count": 2,
     "metadata": {},
     "output_type": "execute_result"
    },
    {
     "data": {
      "image/png": "[encoded data removed]",
      "text/plain": [
       "<Figure size 432x288 with 1 Axes>"
      ]
     },
     "metadata": {
      "needs_background": "light"
     },
     "output_type": "display_data"
    }
   ],
   "source": [
    "import matplotlib.pyplot as plt\n",
    "from numpy import linspace\n",
    "f=lambda x: x**3+x**2-3*x-3\n",
    "T=linspace(-2,2,41)\n",
    "plt.title(\"solution dans [-2:2] \");\n",
    "plt.xlabel(\"x\")\n",
    "plt.ylabel (\"f(x)\")\n",
    "plt.grid(True)\n",
    "plt.plot(T,f(T))"
   ]
  },
  {
   "cell_type": "markdown",
   "metadata": {},
   "source": [
    "## 2/"
   ]
  },
  {
   "cell_type": "code",
   "execution_count": 28,
   "metadata": {},
   "outputs": [],
   "source": [
    "def dicho(a,b,f,eps):\n",
    "    \n",
    "    while (b-a)>eps:\n",
    "        m=(a+b)/2\n",
    "        if f(m)==0:\n",
    "            return m\n",
    "        if f(a)*f(m)<0 :\n",
    "            b=m\n",
    "        else :\n",
    "            a=m\n",
    "    return m"
   ]
  },
  {
   "cell_type": "code",
   "execution_count": 29,
   "metadata": {},
   "outputs": [
    {
     "data": {
      "text/plain": [
       "-1.7314453125"
      ]
     },
     "execution_count": 29,
     "metadata": {},
     "output_type": "execute_result"
    }
   ],
   "source": [
    "f=lambda x: x**3+x**2-3*x-3\n",
    "dicho(-2,-1.5,f,0.001)\n"
   ]
  },
  {
   "cell_type": "markdown",
   "metadata": {},
   "source": [
    "## 3/ "
   ]
  },
  {
   "cell_type": "code",
   "execution_count": 43,
   "metadata": {},
   "outputs": [],
   "source": [
    "def dichow(a,b,f,eps):\n",
    "    cp=0\n",
    "    while (b-a)>eps:\n",
    "        m=(a+b)/2\n",
    "        if f(m)==0:\n",
    "            return m\n",
    "        if f(a)*f(m)<0 :\n",
    "            b=m\n",
    "        else :\n",
    "            a=m\n",
    "        cp+=1\n",
    "    return m,cp"
   ]
  },
  {
   "cell_type": "code",
   "execution_count": 50,
   "metadata": {},
   "outputs": [
    {
     "data": {
      "text/plain": [
       "(-1.7314453125, 9)"
      ]
     },
     "execution_count": 50,
     "metadata": {},
     "output_type": "execute_result"
    }
   ],
   "source": [
    "f=lambda x: x**3+x**2-3*x-3\n",
    "dichow(-2,-1.5,f,0.001)"
   ]
  },
  {
   "cell_type": "markdown",
   "metadata": {},
   "source": [
    " → Aprés 9 itérations on trouve la valeur de $α$"
   ]
  },
  {
   "cell_type": "markdown",
   "metadata": {},
   "source": [
    "<strong>Le nombre d'itération N nécéssaire à la méthode de la dichotomie pour trouver $\\alpha$ à $10^{-p}$ prés </strong>\n",
    "\n",
    "$$N \\geq E\\left(\\dfrac{\\ln(b-a)+p\\ln(10)}{\\ln(2)}\\right)+1$$"
   ]
  },
  {
   "cell_type": "markdown",
   "metadata": {},
   "source": [
    "\n",
    "<div class=\"alert alert-success\"> **<span style=\"color:#707000\">\n",
    "    Interprétation :\n",
    "\n",
    "* La méthode de dichotomie est \n",
    "    * algorithme simple\n",
    "    * Sûrement convergente >\n",
    "    * vitesse de convergence constante = 1 \n",
    "    * facilement implementable\n",
    "            \n",
    "</span>**</div>"
   ]
  },
  {
   "cell_type": "markdown",
   "metadata": {},
   "source": [
    "<p><blockquote> mais ca montre que cette méthode est lente (vitesse de convergence = 1)→ Il faut trouver une méthode plus rapide que la méthode  Dichotomie<p><blockquote>"
   ]
  },
  {
   "cell_type": "markdown",
   "metadata": {},
   "source": [
    "##  <h2 style=\"color:black\" > Exercice 3 : </h2>"
   ]
  },
  {
   "cell_type": "markdown",
   "metadata": {},
   "source": [
    ">On considère l'équation : $$ f(x)=x^3+4x^2-10=0$$\n",
    ">1) Dessiner la courbe de $f$ dans l'intervalle $[1;2]$, puis trouver une valeur approché de la solution à 0.001 près (En >utilisant la fonction zoom du graphique).\n",
    ">\n",
    ">2) Vérifier que cette équation est équivalente aux 3 schéma du point fixe suivant:\n",
    ">\n",
    ">a) $g_1(x)=\\frac{1}{2}\\sqrt{10-x^3}=x$.\n",
    "> \n",
    ">b) $g_2(x)=\\sqrt{\\displaystyle\\frac{10}{4+x}}=x$.\n",
    "> \n",
    ">c) $g_3(x)=x-x^3-4x^2+10=x$.\n",
    ">\n",
    ">3) Ecrire puis appliquer  une fonction Matlab que l'on appellera  `pointfixe.m` aux trois schémas précédents en prenant >`x0=1.5;eps=0.001`.\n",
    ">\n",
    ">4) Quelle est la fonction (parmi $g_1, g_2$ et $g_3$) qui donne la convergence la plus rapide?\n"
   ]
  },
  {
   "cell_type": "markdown",
   "metadata": {},
   "source": [
    " * **<span style=\"color:#0000C0\">Utilisation de la méthode `Méthode de point fixe` : </span>**\n"
   ]
  },
  {
   "cell_type": "markdown",
   "metadata": {},
   "source": [
    "> &nbsp;La méthode du point fixe appliquée à la résolutions d’équations non linéaires\n",
    "> consiste à élaborer un schéma itératif, en l’occurence une suite convergente vers un point fixe x d’une certaine application > g, ce point fixe est en l’occurence\n",
    "> la solution de l’équation $f(x)=0$."
   ]
  },
  {
   "cell_type": "markdown",
   "metadata": {},
   "source": [
    "\n",
    "* **<span style=\"color:red\">Correction: </span>**\n",
    "\n",
    "\n",
    "## 1/ \n",
    "On considère l'équation : \n",
    "$$ f(x)=x^3+4x^2-10=0$$\n"
   ]
  },
  {
   "cell_type": "code",
   "execution_count": 54,
   "metadata": {},
   "outputs": [
    {
     "data": {
      "image/png": "[encoded data removed]",
      "text/plain": [
       "<Figure size 432x288 with 4 Axes>"
      ]
     },
     "metadata": {
      "needs_background": "light"
     },
     "output_type": "display_data"
    }
   ],
   "source": [
    "%matplotlib inline\n",
    "\n",
    "import numpy as np \n",
    "import matplotlib.pyplot as plt\n",
    "\n",
    "f=lambda x:x**3+4*x**2-10\n",
    "\n",
    "t=np.linspace(1,2,100)\n",
    "plt.subplot(2,2,1)\n",
    "plt.plot(t,f(t),'g')\n",
    "plt.grid(True)\n",
    "##########################################\n",
    "t=np.linspace(1.2,1.4,100)\n",
    "plt.subplot(2,2,2)\n",
    "plt.plot(t,f(t),'g')\n",
    "plt.grid(True)\n",
    "##########################################\n",
    "t=np.linspace(1.35,1.4,100)\n",
    "plt.subplot(2,2,3)\n",
    "plt.plot(t,f(t),'g')\n",
    "plt.grid(True)\n",
    "#########################################\n",
    "t=np.linspace(1.365,1.367,100)\n",
    "plt.subplot(2,2,4)\n",
    "plt.plot(t,f(t),'g')\n",
    "plt.grid(True)"
   ]
  },
  {
   "cell_type": "markdown",
   "metadata": {},
   "source": [
    "## 2/ "
   ]
  },
  {
   "cell_type": "markdown",
   "metadata": {},
   "source": [
    "a) $g(x)=\\frac{1}{2}\\sqrt{10-x^3}=x$."
   ]
  },
  {
   "cell_type": "markdown",
   "metadata": {},
   "source": [
    "$$x^3+4x^2-10=0$$ \n",
    "    \n",
    " $$4x^2=10-x^3$$\n",
    " \n",
    " $$2x=\\sqrt{10-x^3}$$\n",
    " \n",
    " $$x=\\frac{1}{2}\\sqrt{10-x^3}$$\n",
    " \n",
    "Donc $ f(x)=g(x)$"
   ]
  },
  {
   "cell_type": "markdown",
   "metadata": {},
   "source": [
    "b) $g(x)=\\sqrt{\\displaystyle\\frac{10}{4+x}}=x$."
   ]
  },
  {
   "cell_type": "markdown",
   "metadata": {},
   "source": [
    "$$x^3+4x^2-10=0$$\n",
    "$$x^3+4x^2=10$$\n",
    "$$x^2(x+4)=10$$\n",
    "$$x^2=\\frac{10}{x+4}$$\n",
    "$$x=\\sqrt{\\displaystyle\\frac{10}{4+x}}$$\n",
    "Donc $ f(x)=g(x)$"
   ]
  },
  {
   "cell_type": "markdown",
   "metadata": {},
   "source": [
    "c) $g(x)=x-x^3-4x^2+10=x$."
   ]
  },
  {
   "cell_type": "markdown",
   "metadata": {},
   "source": [
    "$$x^3+4x^2-10=0$$\n",
    "$$x^3+4x^2-10+x-x=0$$\n",
    "$$x^3-4x^2+x-x=10$$\n",
    "$$x^3-4x^2+x=x+10$$\n",
    "$$4x^2+x=x-x^3+10$$\n",
    "$$x=x-x^3-4x^2+10$$\n",
    "Donc $ f(x)=g(x)$"
   ]
  },
  {
   "cell_type": "markdown",
   "metadata": {},
   "source": [
    "## 3\\\n",
    ">Le code python "
   ]
  },
  {
   "cell_type": "code",
   "execution_count": 103,
   "metadata": {},
   "outputs": [],
   "source": [
    "import math\n",
    "f=lambda x:  x**3+4*x**2-10 # la fonction f\n",
    "g1=lambda x: 1/2*(math.sqrt(10-x**3))\n",
    "g2=lambda x: math.sqrt(10/(x+4))\n",
    "g3=lambda x: x-x**3-4*x**2 + 10\n",
    "\n",
    "\n",
    "def ptfixe(g,x0,eps,nmax):\n",
    "    zero=x0\n",
    "    for i in range(nmax):\n",
    "        x=zero \n",
    "        zero=g(x)\n",
    "        erreur=abs(zero-x)\n",
    "        print(zero)\n",
    "        if erreur<eps:\n",
    "            return zero,i\n",
    "    print('pas de convergence avec le nombre d''iteration indique')"
   ]
  },
  {
   "cell_type": "code",
   "execution_count": 104,
   "metadata": {},
   "outputs": [
    {
     "name": "stdout",
     "output_type": "stream",
     "text": [
      "1.348399724926484\n",
      "1.3673763719912828\n",
      "1.364957015402487\n",
      "1.3652647481134421\n"
     ]
    },
    {
     "data": {
      "text/plain": [
       "(1.3652647481134421, 3)"
      ]
     },
     "execution_count": 104,
     "metadata": {},
     "output_type": "execute_result"
    }
   ],
   "source": [
    "ptfixe(g2,1.5,0.001,50)"
   ]
  },
  {
   "cell_type": "code",
   "execution_count": 105,
   "metadata": {},
   "outputs": [
    {
     "name": "stdout",
     "output_type": "stream",
     "text": [
      "1.286953767623375\n",
      "1.4025408035395783\n",
      "1.3454583740232942\n",
      "1.3751702528160383\n",
      "1.360094192761733\n",
      "1.3678469675921328\n",
      "1.3638870038840212\n",
      "1.36591673339004\n",
      "1.364878217193677\n",
      "1.365410061169957\n"
     ]
    },
    {
     "data": {
      "text/plain": [
       "(1.365410061169957, 9)"
      ]
     },
     "execution_count": 105,
     "metadata": {},
     "output_type": "execute_result"
    }
   ],
   "source": [
    "ptfixe(g1,1.5,0.001,50)"
   ]
  },
  {
   "cell_type": "code",
   "execution_count": 106,
   "metadata": {},
   "outputs": [
    {
     "name": "stdout",
     "output_type": "stream",
     "text": [
      "-0.875\n",
      "6.732421875\n",
      "-469.72001200169325\n",
      "102754555.18738511\n",
      "-1.0849338705317464e+24\n",
      "pas de convergence avec le nombre diteration indique\n"
     ]
    }
   ],
   "source": [
    "ptfixe(g3,1.5,0.001,5)"
   ]
  },
  {
   "cell_type": "markdown",
   "metadata": {},
   "source": [
    "<div class=\"alert alert-block alert-danger\"> <span style=\"color:#800000\"> g3 diverge , g2 est plus convergente que g1 ( car g2 converge aprés 3 itérations seulement) </span> </div>"
   ]
  },
  {
   "cell_type": "markdown",
   "metadata": {},
   "source": [
    "<div class=\"alert alert-success\"> **<span style=\"color:#707000\">$f(α)=0 <=> g(α)=α$ :\n",
    "$α$ racine de$ f $\n",
    "$α$ point fixe de $g $\n",
    "    </span>**</div>"
   ]
  },
  {
   "cell_type": "markdown",
   "metadata": {},
   "source": [
    "<div class=\"alert alert-success\"> **<span style=\"color:#707000\">(-) $g$ converge seulement si  $g^{\\prime}(α) <1$ sinon elle diverge\n",
    "alors que la methode de point fixe est toujours convergente .\n",
    " </span>**</div>"
   ]
  },
  {
   "cell_type": "markdown",
   "metadata": {},
   "source": [
    "<div class=\"alert alert-success\"> **<span style=\"color:#707000\">(+) plus que l'ordre de convergence est grand plus que g converge plus rapidement\n",
    "    </span>**</div>"
   ]
  },
  {
   "cell_type": "markdown",
   "metadata": {},
   "source": [
    "##  <h2 style=\"color:black\" > Exercice 4: </h2>\n",
    ">1) On considère la fonction $f(x)=e^{-x}-x$. Ecrire puis appliquer  une fonction Matlab que l'on appellera `newton.m` à la >fonction $f$, en prenant $x0=0$, $eps=0.001$ .\n",
    ">\n",
    ">2) Montrer que l'équation $f(x)=0$ admet une solution unique que l'on peut obtenir en utilisant la méthode de Newton à partir >de $x0=1$."
   ]
  },
  {
   "cell_type": "markdown",
   "metadata": {},
   "source": [
    "\n",
    "* **<span style=\"color:red\">Correction: </span>**\n",
    "\n",
    "\n",
    "## 1/ \n"
   ]
  },
  {
   "cell_type": "code",
   "execution_count": 134,
   "metadata": {},
   "outputs": [
    {
     "name": "stdout",
     "output_type": "stream",
     "text": [
      "0.566311003197218\n"
     ]
    }
   ],
   "source": [
    "from sympy import *\n",
    "from sympy.abc import x\n",
    "\n",
    "f=lambda x: exp(-x)-x\n",
    "fprime=lambdify(x,diff(f(x),x,1)) \n",
    "x2=0.5\n",
    "x1=x2\n",
    "x2=x1-(f(x1)/fprime(x1))\n",
    "print(x2)"
   ]
  },
  {
   "cell_type": "code",
   "execution_count": 175,
   "metadata": {},
   "outputs": [],
   "source": [
    "def newton(f,fprime,a,eps):\n",
    "    x1=a\n",
    "    x2=x1-(f(x1)/fprime(x1))\n",
    "    while abs(x1-x2)>eps :\n",
    "        x1=x2\n",
    "        x2=x1-(f(x1)/fprime(x1))\n",
    "        m=x2\n",
    "    return m"
   ]
  },
  {
   "cell_type": "code",
   "execution_count": 177,
   "metadata": {},
   "outputs": [
    {
     "data": {
      "text/plain": [
       "0.5671431650348622"
      ]
     },
     "execution_count": 177,
     "metadata": {},
     "output_type": "execute_result"
    }
   ],
   "source": [
    "import math\n",
    "from sympy import *\n",
    "from sympy.abc import x\n",
    "\n",
    "f=lambda x: math.exp(-x)-x\n",
    "fprime=lambda x: -math.exp(-x)-1\n",
    "newton(f,fprime,0,0.001)"
   ]
  },
  {
   "cell_type": "markdown",
   "metadata": {},
   "source": [
    "## 2/ "
   ]
  },
  {
   "cell_type": "markdown",
   "metadata": {},
   "source": [
    "\n",
    "<div class=\"alert alert-success\"> **<span style=\"color:#707000\">\n",
    "    Interprétation :\n",
    "\n",
    ">  La méthode de newton est un cas particulier de méthode point fixe mais la méthode de newton est toujours convergente          localement  \n",
    "     On n'est pas une méthode qui est meilleure que les autres, une méthode est meilleure selon le cas \n",
    "     \n",
    "            \n",
    "</span>**</div>"
   ]
  },
  {
   "cell_type": "markdown",
   "metadata": {},
   "source": [
    "|&nbsp;    | <center>Dichotomie </center>| <center>Point fixe    </center> | <center>   Newten </center> |\n",
    "|------------|:-------------:     |: -------------: | ---------:|\n",
    "| <center>Avantage  </center>   | <center>algorithme simple   </center>|  <center>    Convergence   </center>      | <center>convergence quadratique </center> |\n",
    "|    &nbsp;    |convergence de façon sure |C’est une méthode beaucoup plus générale |    &nbsp; |\n",
    "|inconvénient |nécessite $f (a) × f (b) < 0 $| <center>convergence linéaire </center>| <center>calcul des dérivée </center>s|\n",
    "|&nbsp;| <center>vitesse lente  </center>                          |Elle est en général moins rapide|  &nbsp;|\n",
    "    \n",
    "\n",
    "\n"
   ]
  },
  {
   "cell_type": "code",
   "execution_count": null,
   "metadata": {},
   "outputs": [],
   "source": []
  }
 ],
 "metadata": {
  "kernelspec": {
   "display_name": "Python 3",
   "language": "python",
   "name": "python3"
  },
  "language_info": {
   "codemirror_mode": {
    "name": "ipython",
    "version": 3
   },
   "file_extension": ".py",
   "mimetype": "text/x-python",
   "name": "python",
   "nbconvert_exporter": "python",
   "pygments_lexer": "ipython3",
   "version": "3.7.1"
  }
 },
 "nbformat": 4,
 "nbformat_minor": 2
}
