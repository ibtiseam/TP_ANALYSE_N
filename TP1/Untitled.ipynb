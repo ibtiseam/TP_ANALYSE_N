{
 "cells": [
  {
   "cell_type": "markdown",
   "metadata": {},
   "source": [
    "et bien si \\bar{X}_n = \\displaystyle{\\frac{1}{n}\\sum\\limits_{i=1}^{n}X_n}, la moyenne empirique de n variables aléatoires indépendantes et identiquement distribuées, tu as \\mathbb{E}[\\bar{X}_n] = \\mathbb{E}[X_1] et Var[\\bar{X}_n] = \\frac{1}{n}Var[X_1]...\n"
   ]
  }
 ],
 "metadata": {
  "kernelspec": {
   "display_name": "Python 3",
   "language": "python",
   "name": "python3"
  },
  "language_info": {
   "codemirror_mode": {
    "name": "ipython",
    "version": 3
   },
   "file_extension": ".py",
   "mimetype": "text/x-python",
   "name": "python",
   "nbconvert_exporter": "python",
   "pygments_lexer": "ipython3",
   "version": "3.7.1"
  }
 },
 "nbformat": 4,
 "nbformat_minor": 2
}
